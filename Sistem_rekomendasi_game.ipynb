{
  "nbformat": 4,
  "nbformat_minor": 0,
  "metadata": {
    "colab": {
      "provenance": [],
      "authorship_tag": "ABX9TyPAbS4mxtc2jrDDdTAiKV+M",
      "include_colab_link": true
    },
    "kernelspec": {
      "name": "python3",
      "display_name": "Python 3"
    },
    "language_info": {
      "name": "python"
    }
  },
  "cells": [
    {
      "cell_type": "markdown",
      "metadata": {
        "id": "view-in-github",
        "colab_type": "text"
      },
      "source": [
        "<a href=\"https://colab.research.google.com/github/firarru/Text-Mining/blob/main/Sistem_rekomendasi_game.ipynb\" target=\"_parent\"><img src=\"https://colab.research.google.com/assets/colab-badge.svg\" alt=\"Open In Colab\"/></a>"
      ]
    },
    {
      "cell_type": "code",
      "execution_count": 2,
      "metadata": {
        "id": "xqAJxHVNK-IE"
      },
      "outputs": [],
      "source": [
        "import pandas as pd\n",
        "import matplotlib.pyplot as plt\n",
        "import seaborn as sns\n",
        "import numpy as np\n",
        "import nltk\n",
        "from nltk.tokenize import word_tokenize\n",
        "from nltk.corpus import stopwords"
      ]
    },
    {
      "cell_type": "code",
      "source": [
        "# pip install --upgrade pandas"
      ],
      "metadata": {
        "id": "-qn0Qzue4oYz"
      },
      "execution_count": 3,
      "outputs": []
    },
    {
      "cell_type": "markdown",
      "source": [
        "# **Loading Data**"
      ],
      "metadata": {
        "id": "1EPrSxv_jQbX"
      }
    },
    {
      "cell_type": "code",
      "source": [
        "# pip install kagglehub"
      ],
      "metadata": {
        "id": "ruKAlHUNQzC5",
        "outputId": "d5f8db10-56fa-4682-9b2b-c1e14f341353",
        "colab": {
          "base_uri": "https://localhost:8080/"
        }
      },
      "execution_count": 4,
      "outputs": [
        {
          "output_type": "stream",
          "name": "stdout",
          "text": [
            "Requirement already satisfied: kagglehub in /usr/local/lib/python3.11/dist-packages (0.3.12)\n",
            "Requirement already satisfied: packaging in /usr/local/lib/python3.11/dist-packages (from kagglehub) (24.2)\n",
            "Requirement already satisfied: pyyaml in /usr/local/lib/python3.11/dist-packages (from kagglehub) (6.0.2)\n",
            "Requirement already satisfied: requests in /usr/local/lib/python3.11/dist-packages (from kagglehub) (2.32.3)\n",
            "Requirement already satisfied: tqdm in /usr/local/lib/python3.11/dist-packages (from kagglehub) (4.67.1)\n",
            "Requirement already satisfied: charset-normalizer<4,>=2 in /usr/local/lib/python3.11/dist-packages (from requests->kagglehub) (3.4.2)\n",
            "Requirement already satisfied: idna<4,>=2.5 in /usr/local/lib/python3.11/dist-packages (from requests->kagglehub) (3.10)\n",
            "Requirement already satisfied: urllib3<3,>=1.21.1 in /usr/local/lib/python3.11/dist-packages (from requests->kagglehub) (2.4.0)\n",
            "Requirement already satisfied: certifi>=2017.4.17 in /usr/local/lib/python3.11/dist-packages (from requests->kagglehub) (2025.4.26)\n"
          ]
        }
      ]
    },
    {
      "cell_type": "code",
      "source": [
        "import kagglehub\n",
        "\n",
        "path = kagglehub.dataset_download(\"artermiloff/steam-games-dataset\")\n",
        "print(\"Path to dataset files:\", path)\n",
        "\n",
        "import os\n",
        "\n",
        "# Cek file yang tersedia dalam dataset\n",
        "files = os.listdir(path)\n",
        "print(\"Files in dataset:\", files)\n",
        "\n",
        "# Sesuaikan dengan file yang ada - corrected file name\n",
        "dataset_path = os.path.join(path, \"games_march2025_cleaned.csv\")\n",
        "df = pd.read_csv(dataset_path)\n",
        "\n",
        "# Tampilkan 5 baris pertama\n",
        "df.head(10)"
      ],
      "metadata": {
        "id": "OaDGOtI92Qu3",
        "outputId": "6fbb4709-eb53-434e-d955-2496df69b82f",
        "colab": {
          "base_uri": "https://localhost:8080/",
          "height": 1000
        }
      },
      "execution_count": 5,
      "outputs": [
        {
          "output_type": "stream",
          "name": "stdout",
          "text": [
            "Downloading from https://www.kaggle.com/api/v1/datasets/download/artermiloff/steam-games-dataset?dataset_version_number=2...\n"
          ]
        },
        {
          "output_type": "stream",
          "name": "stderr",
          "text": [
            "100%|██████████| 418M/418M [00:05<00:00, 83.8MB/s]"
          ]
        },
        {
          "output_type": "stream",
          "name": "stdout",
          "text": [
            "Extracting files...\n"
          ]
        },
        {
          "output_type": "stream",
          "name": "stderr",
          "text": [
            "\n"
          ]
        },
        {
          "output_type": "stream",
          "name": "stdout",
          "text": [
            "Path to dataset files: /root/.cache/kagglehub/datasets/artermiloff/steam-games-dataset/versions/2\n",
            "Files in dataset: ['games_may2024_cleaned.csv', 'games_may2024_full.csv', 'games_march2025_cleaned.csv', 'games_march2025_full.csv']\n"
          ]
        },
        {
          "output_type": "execute_result",
          "data": {
            "text/plain": [
              "     appid                             name release_date  required_age  price  \\\n",
              "0      730                 Counter-Strike 2   2012-08-21             0   0.00   \n",
              "1   578080              PUBG: BATTLEGROUNDS   2017-12-21             0   0.00   \n",
              "2      570                           Dota 2   2013-07-09             0   0.00   \n",
              "3   271590        Grand Theft Auto V Legacy   2015-04-13            17   0.00   \n",
              "4   359550  Tom Clancy's Rainbow Six® Siege   2015-12-01            17   3.99   \n",
              "5      440                  Team Fortress 2   2007-10-10             0   0.00   \n",
              "6   105600                         Terraria   2011-05-16             0   9.99   \n",
              "7   252490                             Rust   2018-02-08             0  39.99   \n",
              "8     4000                      Garry's Mod   2006-11-29             0   5.99   \n",
              "9  1172470                    Apex Legends™   2020-11-04             0   0.00   \n",
              "\n",
              "   dlc_count                               detailed_description  \\\n",
              "0          1  For over two decades, Counter-Strike has offer...   \n",
              "1          0  LAND, LOOT, SURVIVE! Play PUBG: BATTLEGROUNDS ...   \n",
              "2          2  The most-played game on Steam. Every day, mill...   \n",
              "3          0  When a young street hustler, a retired bank ro...   \n",
              "4          9  Edition Comparison Ultimate Edition The Tom Cl...   \n",
              "5          1  'The most fun you can have online' - PC Gamer ...   \n",
              "6          2  Dig, Fight, Explore, Build: The very world is ...   \n",
              "7          4  The only aim in Rust is to survive. Everything...   \n",
              "8          0  Garry's Mod is a physics sandbox. There aren't...   \n",
              "9          0  Apex Legends: Takeover About the Game Conquer ...   \n",
              "\n",
              "                                      about_the_game  \\\n",
              "0  For over two decades, Counter-Strike has offer...   \n",
              "1  LAND, LOOT, SURVIVE! Play PUBG: BATTLEGROUNDS ...   \n",
              "2  The most-played game on Steam. Every day, mill...   \n",
              "3  When a young street hustler, a retired bank ro...   \n",
              "4  “One of the best first-person shooters ever ma...   \n",
              "5  'The most fun you can have online' - PC Gamer ...   \n",
              "6  Dig, Fight, Explore, Build: The very world is ...   \n",
              "7  The only aim in Rust is to survive. Everything...   \n",
              "8  Garry's Mod is a physics sandbox. There aren't...   \n",
              "9  Conquer with character in Apex Legends, a free...   \n",
              "\n",
              "                                   short_description  \\\n",
              "0  For over two decades, Counter-Strike has offer...   \n",
              "1  Play PUBG: BATTLEGROUNDS for free. Land on str...   \n",
              "2  Every day, millions of players worldwide enter...   \n",
              "3  Grand Theft Auto V for PC offers players the o...   \n",
              "4  Tom Clancy's Rainbow Six® Siege is an elite, t...   \n",
              "5  Nine distinct classes provide a broad range of...   \n",
              "6  Dig, fight, explore, build! Nothing is impossi...   \n",
              "7  The only aim in Rust is to survive. Everything...   \n",
              "8  Garry's Mod is a physics sandbox. There aren't...   \n",
              "9  Apex Legends is the award-winning, free-to-pla...   \n",
              "\n",
              "                                             reviews  ...  \\\n",
              "0                                                NaN  ...   \n",
              "1                                                NaN  ...   \n",
              "2  “A modern multiplayer masterpiece.” 9.5/10 – D...  ...   \n",
              "3                                                NaN  ...   \n",
              "4                                                NaN  ...   \n",
              "5                                                NaN  ...   \n",
              "6                                                NaN  ...   \n",
              "7  “Rust is one of the cruelest games on Steam, a...  ...   \n",
              "8  “It brings back the silly glee of unbridled ex...  ...   \n",
              "9  “The champion of Battle Royales.” 9/10 – GameS...  ...   \n",
              "\n",
              "  average_playtime_2weeks median_playtime_forever median_playtime_2weeks  \\\n",
              "0                     879                    5174                    350   \n",
              "1                       0                       0                      0   \n",
              "2                    1536                     898                    892   \n",
              "3                     771                    7101                     74   \n",
              "4                     682                    2434                    306   \n",
              "5                       0                       0                      0   \n",
              "6                       0                       0                      0   \n",
              "7                     836                    3675                    231   \n",
              "8                     100                    1173                    136   \n",
              "9                     548                     667                    211   \n",
              "\n",
              "  discount  peak_ccu                                               tags  \\\n",
              "0        0   1212356  {'FPS': 90857, 'Shooter': 65397, 'Multiplayer'...   \n",
              "1        0    616738  {'Survival': 14838, 'Shooter': 12727, 'Battle ...   \n",
              "2        0    555977  {'Free to Play': 59933, 'MOBA': 20158, 'Multip...   \n",
              "3        0    117698  {'Open World': 32644, 'Action': 23539, 'Multip...   \n",
              "4       80     89916  {'FPS': 9831, 'PvP': 9162, 'e-sports': 9072, '...   \n",
              "5        0     50817  {'Free to Play': 62868, 'Hero Shooter': 61020,...   \n",
              "6        0     30516  {'Open World Survival Craft': 16365, 'Sandbox'...   \n",
              "7        0    200902  {'Survival': 18592, 'Crafting': 11822, 'Multip...   \n",
              "8       40     32384  {'Sandbox': 18706, 'Moddable': 14479, 'Multipl...   \n",
              "9        0    151844  {'Free to Play': 2170, 'Battle Royale': 1483, ...   \n",
              "\n",
              "   pct_pos_total  num_reviews_total pct_pos_recent  num_reviews_recent  \n",
              "0             86            8632939             82               96473  \n",
              "1             59            2513842             68               16720  \n",
              "2             81            2452595             80               29366  \n",
              "3             87            1803832             92               17517  \n",
              "4             84            1168020             76               12608  \n",
              "5             89            1146642             93                8172  \n",
              "6             97            1102434             96                8860  \n",
              "7             87             993856             87               14960  \n",
              "8             96             985010             96                8277  \n",
              "9             67             983230             53                7054  \n",
              "\n",
              "[10 rows x 47 columns]"
            ],
            "text/html": [
              "\n",
              "  <div id=\"df-b40c375c-acf5-4c91-af6d-c381716ca5ae\" class=\"colab-df-container\">\n",
              "    <div>\n",
              "<style scoped>\n",
              "    .dataframe tbody tr th:only-of-type {\n",
              "        vertical-align: middle;\n",
              "    }\n",
              "\n",
              "    .dataframe tbody tr th {\n",
              "        vertical-align: top;\n",
              "    }\n",
              "\n",
              "    .dataframe thead th {\n",
              "        text-align: right;\n",
              "    }\n",
              "</style>\n",
              "<table border=\"1\" class=\"dataframe\">\n",
              "  <thead>\n",
              "    <tr style=\"text-align: right;\">\n",
              "      <th></th>\n",
              "      <th>appid</th>\n",
              "      <th>name</th>\n",
              "      <th>release_date</th>\n",
              "      <th>required_age</th>\n",
              "      <th>price</th>\n",
              "      <th>dlc_count</th>\n",
              "      <th>detailed_description</th>\n",
              "      <th>about_the_game</th>\n",
              "      <th>short_description</th>\n",
              "      <th>reviews</th>\n",
              "      <th>...</th>\n",
              "      <th>average_playtime_2weeks</th>\n",
              "      <th>median_playtime_forever</th>\n",
              "      <th>median_playtime_2weeks</th>\n",
              "      <th>discount</th>\n",
              "      <th>peak_ccu</th>\n",
              "      <th>tags</th>\n",
              "      <th>pct_pos_total</th>\n",
              "      <th>num_reviews_total</th>\n",
              "      <th>pct_pos_recent</th>\n",
              "      <th>num_reviews_recent</th>\n",
              "    </tr>\n",
              "  </thead>\n",
              "  <tbody>\n",
              "    <tr>\n",
              "      <th>0</th>\n",
              "      <td>730</td>\n",
              "      <td>Counter-Strike 2</td>\n",
              "      <td>2012-08-21</td>\n",
              "      <td>0</td>\n",
              "      <td>0.00</td>\n",
              "      <td>1</td>\n",
              "      <td>For over two decades, Counter-Strike has offer...</td>\n",
              "      <td>For over two decades, Counter-Strike has offer...</td>\n",
              "      <td>For over two decades, Counter-Strike has offer...</td>\n",
              "      <td>NaN</td>\n",
              "      <td>...</td>\n",
              "      <td>879</td>\n",
              "      <td>5174</td>\n",
              "      <td>350</td>\n",
              "      <td>0</td>\n",
              "      <td>1212356</td>\n",
              "      <td>{'FPS': 90857, 'Shooter': 65397, 'Multiplayer'...</td>\n",
              "      <td>86</td>\n",
              "      <td>8632939</td>\n",
              "      <td>82</td>\n",
              "      <td>96473</td>\n",
              "    </tr>\n",
              "    <tr>\n",
              "      <th>1</th>\n",
              "      <td>578080</td>\n",
              "      <td>PUBG: BATTLEGROUNDS</td>\n",
              "      <td>2017-12-21</td>\n",
              "      <td>0</td>\n",
              "      <td>0.00</td>\n",
              "      <td>0</td>\n",
              "      <td>LAND, LOOT, SURVIVE! Play PUBG: BATTLEGROUNDS ...</td>\n",
              "      <td>LAND, LOOT, SURVIVE! Play PUBG: BATTLEGROUNDS ...</td>\n",
              "      <td>Play PUBG: BATTLEGROUNDS for free. Land on str...</td>\n",
              "      <td>NaN</td>\n",
              "      <td>...</td>\n",
              "      <td>0</td>\n",
              "      <td>0</td>\n",
              "      <td>0</td>\n",
              "      <td>0</td>\n",
              "      <td>616738</td>\n",
              "      <td>{'Survival': 14838, 'Shooter': 12727, 'Battle ...</td>\n",
              "      <td>59</td>\n",
              "      <td>2513842</td>\n",
              "      <td>68</td>\n",
              "      <td>16720</td>\n",
              "    </tr>\n",
              "    <tr>\n",
              "      <th>2</th>\n",
              "      <td>570</td>\n",
              "      <td>Dota 2</td>\n",
              "      <td>2013-07-09</td>\n",
              "      <td>0</td>\n",
              "      <td>0.00</td>\n",
              "      <td>2</td>\n",
              "      <td>The most-played game on Steam. Every day, mill...</td>\n",
              "      <td>The most-played game on Steam. Every day, mill...</td>\n",
              "      <td>Every day, millions of players worldwide enter...</td>\n",
              "      <td>“A modern multiplayer masterpiece.” 9.5/10 – D...</td>\n",
              "      <td>...</td>\n",
              "      <td>1536</td>\n",
              "      <td>898</td>\n",
              "      <td>892</td>\n",
              "      <td>0</td>\n",
              "      <td>555977</td>\n",
              "      <td>{'Free to Play': 59933, 'MOBA': 20158, 'Multip...</td>\n",
              "      <td>81</td>\n",
              "      <td>2452595</td>\n",
              "      <td>80</td>\n",
              "      <td>29366</td>\n",
              "    </tr>\n",
              "    <tr>\n",
              "      <th>3</th>\n",
              "      <td>271590</td>\n",
              "      <td>Grand Theft Auto V Legacy</td>\n",
              "      <td>2015-04-13</td>\n",
              "      <td>17</td>\n",
              "      <td>0.00</td>\n",
              "      <td>0</td>\n",
              "      <td>When a young street hustler, a retired bank ro...</td>\n",
              "      <td>When a young street hustler, a retired bank ro...</td>\n",
              "      <td>Grand Theft Auto V for PC offers players the o...</td>\n",
              "      <td>NaN</td>\n",
              "      <td>...</td>\n",
              "      <td>771</td>\n",
              "      <td>7101</td>\n",
              "      <td>74</td>\n",
              "      <td>0</td>\n",
              "      <td>117698</td>\n",
              "      <td>{'Open World': 32644, 'Action': 23539, 'Multip...</td>\n",
              "      <td>87</td>\n",
              "      <td>1803832</td>\n",
              "      <td>92</td>\n",
              "      <td>17517</td>\n",
              "    </tr>\n",
              "    <tr>\n",
              "      <th>4</th>\n",
              "      <td>359550</td>\n",
              "      <td>Tom Clancy's Rainbow Six® Siege</td>\n",
              "      <td>2015-12-01</td>\n",
              "      <td>17</td>\n",
              "      <td>3.99</td>\n",
              "      <td>9</td>\n",
              "      <td>Edition Comparison Ultimate Edition The Tom Cl...</td>\n",
              "      <td>“One of the best first-person shooters ever ma...</td>\n",
              "      <td>Tom Clancy's Rainbow Six® Siege is an elite, t...</td>\n",
              "      <td>NaN</td>\n",
              "      <td>...</td>\n",
              "      <td>682</td>\n",
              "      <td>2434</td>\n",
              "      <td>306</td>\n",
              "      <td>80</td>\n",
              "      <td>89916</td>\n",
              "      <td>{'FPS': 9831, 'PvP': 9162, 'e-sports': 9072, '...</td>\n",
              "      <td>84</td>\n",
              "      <td>1168020</td>\n",
              "      <td>76</td>\n",
              "      <td>12608</td>\n",
              "    </tr>\n",
              "    <tr>\n",
              "      <th>5</th>\n",
              "      <td>440</td>\n",
              "      <td>Team Fortress 2</td>\n",
              "      <td>2007-10-10</td>\n",
              "      <td>0</td>\n",
              "      <td>0.00</td>\n",
              "      <td>1</td>\n",
              "      <td>'The most fun you can have online' - PC Gamer ...</td>\n",
              "      <td>'The most fun you can have online' - PC Gamer ...</td>\n",
              "      <td>Nine distinct classes provide a broad range of...</td>\n",
              "      <td>NaN</td>\n",
              "      <td>...</td>\n",
              "      <td>0</td>\n",
              "      <td>0</td>\n",
              "      <td>0</td>\n",
              "      <td>0</td>\n",
              "      <td>50817</td>\n",
              "      <td>{'Free to Play': 62868, 'Hero Shooter': 61020,...</td>\n",
              "      <td>89</td>\n",
              "      <td>1146642</td>\n",
              "      <td>93</td>\n",
              "      <td>8172</td>\n",
              "    </tr>\n",
              "    <tr>\n",
              "      <th>6</th>\n",
              "      <td>105600</td>\n",
              "      <td>Terraria</td>\n",
              "      <td>2011-05-16</td>\n",
              "      <td>0</td>\n",
              "      <td>9.99</td>\n",
              "      <td>2</td>\n",
              "      <td>Dig, Fight, Explore, Build: The very world is ...</td>\n",
              "      <td>Dig, Fight, Explore, Build: The very world is ...</td>\n",
              "      <td>Dig, fight, explore, build! Nothing is impossi...</td>\n",
              "      <td>NaN</td>\n",
              "      <td>...</td>\n",
              "      <td>0</td>\n",
              "      <td>0</td>\n",
              "      <td>0</td>\n",
              "      <td>0</td>\n",
              "      <td>30516</td>\n",
              "      <td>{'Open World Survival Craft': 16365, 'Sandbox'...</td>\n",
              "      <td>97</td>\n",
              "      <td>1102434</td>\n",
              "      <td>96</td>\n",
              "      <td>8860</td>\n",
              "    </tr>\n",
              "    <tr>\n",
              "      <th>7</th>\n",
              "      <td>252490</td>\n",
              "      <td>Rust</td>\n",
              "      <td>2018-02-08</td>\n",
              "      <td>0</td>\n",
              "      <td>39.99</td>\n",
              "      <td>4</td>\n",
              "      <td>The only aim in Rust is to survive. Everything...</td>\n",
              "      <td>The only aim in Rust is to survive. Everything...</td>\n",
              "      <td>The only aim in Rust is to survive. Everything...</td>\n",
              "      <td>“Rust is one of the cruelest games on Steam, a...</td>\n",
              "      <td>...</td>\n",
              "      <td>836</td>\n",
              "      <td>3675</td>\n",
              "      <td>231</td>\n",
              "      <td>0</td>\n",
              "      <td>200902</td>\n",
              "      <td>{'Survival': 18592, 'Crafting': 11822, 'Multip...</td>\n",
              "      <td>87</td>\n",
              "      <td>993856</td>\n",
              "      <td>87</td>\n",
              "      <td>14960</td>\n",
              "    </tr>\n",
              "    <tr>\n",
              "      <th>8</th>\n",
              "      <td>4000</td>\n",
              "      <td>Garry's Mod</td>\n",
              "      <td>2006-11-29</td>\n",
              "      <td>0</td>\n",
              "      <td>5.99</td>\n",
              "      <td>0</td>\n",
              "      <td>Garry's Mod is a physics sandbox. There aren't...</td>\n",
              "      <td>Garry's Mod is a physics sandbox. There aren't...</td>\n",
              "      <td>Garry's Mod is a physics sandbox. There aren't...</td>\n",
              "      <td>“It brings back the silly glee of unbridled ex...</td>\n",
              "      <td>...</td>\n",
              "      <td>100</td>\n",
              "      <td>1173</td>\n",
              "      <td>136</td>\n",
              "      <td>40</td>\n",
              "      <td>32384</td>\n",
              "      <td>{'Sandbox': 18706, 'Moddable': 14479, 'Multipl...</td>\n",
              "      <td>96</td>\n",
              "      <td>985010</td>\n",
              "      <td>96</td>\n",
              "      <td>8277</td>\n",
              "    </tr>\n",
              "    <tr>\n",
              "      <th>9</th>\n",
              "      <td>1172470</td>\n",
              "      <td>Apex Legends™</td>\n",
              "      <td>2020-11-04</td>\n",
              "      <td>0</td>\n",
              "      <td>0.00</td>\n",
              "      <td>0</td>\n",
              "      <td>Apex Legends: Takeover About the Game Conquer ...</td>\n",
              "      <td>Conquer with character in Apex Legends, a free...</td>\n",
              "      <td>Apex Legends is the award-winning, free-to-pla...</td>\n",
              "      <td>“The champion of Battle Royales.” 9/10 – GameS...</td>\n",
              "      <td>...</td>\n",
              "      <td>548</td>\n",
              "      <td>667</td>\n",
              "      <td>211</td>\n",
              "      <td>0</td>\n",
              "      <td>151844</td>\n",
              "      <td>{'Free to Play': 2170, 'Battle Royale': 1483, ...</td>\n",
              "      <td>67</td>\n",
              "      <td>983230</td>\n",
              "      <td>53</td>\n",
              "      <td>7054</td>\n",
              "    </tr>\n",
              "  </tbody>\n",
              "</table>\n",
              "<p>10 rows × 47 columns</p>\n",
              "</div>\n",
              "    <div class=\"colab-df-buttons\">\n",
              "\n",
              "  <div class=\"colab-df-container\">\n",
              "    <button class=\"colab-df-convert\" onclick=\"convertToInteractive('df-b40c375c-acf5-4c91-af6d-c381716ca5ae')\"\n",
              "            title=\"Convert this dataframe to an interactive table.\"\n",
              "            style=\"display:none;\">\n",
              "\n",
              "  <svg xmlns=\"http://www.w3.org/2000/svg\" height=\"24px\" viewBox=\"0 -960 960 960\">\n",
              "    <path d=\"M120-120v-720h720v720H120Zm60-500h600v-160H180v160Zm220 220h160v-160H400v160Zm0 220h160v-160H400v160ZM180-400h160v-160H180v160Zm440 0h160v-160H620v160ZM180-180h160v-160H180v160Zm440 0h160v-160H620v160Z\"/>\n",
              "  </svg>\n",
              "    </button>\n",
              "\n",
              "  <style>\n",
              "    .colab-df-container {\n",
              "      display:flex;\n",
              "      gap: 12px;\n",
              "    }\n",
              "\n",
              "    .colab-df-convert {\n",
              "      background-color: #E8F0FE;\n",
              "      border: none;\n",
              "      border-radius: 50%;\n",
              "      cursor: pointer;\n",
              "      display: none;\n",
              "      fill: #1967D2;\n",
              "      height: 32px;\n",
              "      padding: 0 0 0 0;\n",
              "      width: 32px;\n",
              "    }\n",
              "\n",
              "    .colab-df-convert:hover {\n",
              "      background-color: #E2EBFA;\n",
              "      box-shadow: 0px 1px 2px rgba(60, 64, 67, 0.3), 0px 1px 3px 1px rgba(60, 64, 67, 0.15);\n",
              "      fill: #174EA6;\n",
              "    }\n",
              "\n",
              "    .colab-df-buttons div {\n",
              "      margin-bottom: 4px;\n",
              "    }\n",
              "\n",
              "    [theme=dark] .colab-df-convert {\n",
              "      background-color: #3B4455;\n",
              "      fill: #D2E3FC;\n",
              "    }\n",
              "\n",
              "    [theme=dark] .colab-df-convert:hover {\n",
              "      background-color: #434B5C;\n",
              "      box-shadow: 0px 1px 3px 1px rgba(0, 0, 0, 0.15);\n",
              "      filter: drop-shadow(0px 1px 2px rgba(0, 0, 0, 0.3));\n",
              "      fill: #FFFFFF;\n",
              "    }\n",
              "  </style>\n",
              "\n",
              "    <script>\n",
              "      const buttonEl =\n",
              "        document.querySelector('#df-b40c375c-acf5-4c91-af6d-c381716ca5ae button.colab-df-convert');\n",
              "      buttonEl.style.display =\n",
              "        google.colab.kernel.accessAllowed ? 'block' : 'none';\n",
              "\n",
              "      async function convertToInteractive(key) {\n",
              "        const element = document.querySelector('#df-b40c375c-acf5-4c91-af6d-c381716ca5ae');\n",
              "        const dataTable =\n",
              "          await google.colab.kernel.invokeFunction('convertToInteractive',\n",
              "                                                    [key], {});\n",
              "        if (!dataTable) return;\n",
              "\n",
              "        const docLinkHtml = 'Like what you see? Visit the ' +\n",
              "          '<a target=\"_blank\" href=https://colab.research.google.com/notebooks/data_table.ipynb>data table notebook</a>'\n",
              "          + ' to learn more about interactive tables.';\n",
              "        element.innerHTML = '';\n",
              "        dataTable['output_type'] = 'display_data';\n",
              "        await google.colab.output.renderOutput(dataTable, element);\n",
              "        const docLink = document.createElement('div');\n",
              "        docLink.innerHTML = docLinkHtml;\n",
              "        element.appendChild(docLink);\n",
              "      }\n",
              "    </script>\n",
              "  </div>\n",
              "\n",
              "\n",
              "    <div id=\"df-9209933a-aaa0-4b71-9558-0e0a5c58252d\">\n",
              "      <button class=\"colab-df-quickchart\" onclick=\"quickchart('df-9209933a-aaa0-4b71-9558-0e0a5c58252d')\"\n",
              "                title=\"Suggest charts\"\n",
              "                style=\"display:none;\">\n",
              "\n",
              "<svg xmlns=\"http://www.w3.org/2000/svg\" height=\"24px\"viewBox=\"0 0 24 24\"\n",
              "     width=\"24px\">\n",
              "    <g>\n",
              "        <path d=\"M19 3H5c-1.1 0-2 .9-2 2v14c0 1.1.9 2 2 2h14c1.1 0 2-.9 2-2V5c0-1.1-.9-2-2-2zM9 17H7v-7h2v7zm4 0h-2V7h2v10zm4 0h-2v-4h2v4z\"/>\n",
              "    </g>\n",
              "</svg>\n",
              "      </button>\n",
              "\n",
              "<style>\n",
              "  .colab-df-quickchart {\n",
              "      --bg-color: #E8F0FE;\n",
              "      --fill-color: #1967D2;\n",
              "      --hover-bg-color: #E2EBFA;\n",
              "      --hover-fill-color: #174EA6;\n",
              "      --disabled-fill-color: #AAA;\n",
              "      --disabled-bg-color: #DDD;\n",
              "  }\n",
              "\n",
              "  [theme=dark] .colab-df-quickchart {\n",
              "      --bg-color: #3B4455;\n",
              "      --fill-color: #D2E3FC;\n",
              "      --hover-bg-color: #434B5C;\n",
              "      --hover-fill-color: #FFFFFF;\n",
              "      --disabled-bg-color: #3B4455;\n",
              "      --disabled-fill-color: #666;\n",
              "  }\n",
              "\n",
              "  .colab-df-quickchart {\n",
              "    background-color: var(--bg-color);\n",
              "    border: none;\n",
              "    border-radius: 50%;\n",
              "    cursor: pointer;\n",
              "    display: none;\n",
              "    fill: var(--fill-color);\n",
              "    height: 32px;\n",
              "    padding: 0;\n",
              "    width: 32px;\n",
              "  }\n",
              "\n",
              "  .colab-df-quickchart:hover {\n",
              "    background-color: var(--hover-bg-color);\n",
              "    box-shadow: 0 1px 2px rgba(60, 64, 67, 0.3), 0 1px 3px 1px rgba(60, 64, 67, 0.15);\n",
              "    fill: var(--button-hover-fill-color);\n",
              "  }\n",
              "\n",
              "  .colab-df-quickchart-complete:disabled,\n",
              "  .colab-df-quickchart-complete:disabled:hover {\n",
              "    background-color: var(--disabled-bg-color);\n",
              "    fill: var(--disabled-fill-color);\n",
              "    box-shadow: none;\n",
              "  }\n",
              "\n",
              "  .colab-df-spinner {\n",
              "    border: 2px solid var(--fill-color);\n",
              "    border-color: transparent;\n",
              "    border-bottom-color: var(--fill-color);\n",
              "    animation:\n",
              "      spin 1s steps(1) infinite;\n",
              "  }\n",
              "\n",
              "  @keyframes spin {\n",
              "    0% {\n",
              "      border-color: transparent;\n",
              "      border-bottom-color: var(--fill-color);\n",
              "      border-left-color: var(--fill-color);\n",
              "    }\n",
              "    20% {\n",
              "      border-color: transparent;\n",
              "      border-left-color: var(--fill-color);\n",
              "      border-top-color: var(--fill-color);\n",
              "    }\n",
              "    30% {\n",
              "      border-color: transparent;\n",
              "      border-left-color: var(--fill-color);\n",
              "      border-top-color: var(--fill-color);\n",
              "      border-right-color: var(--fill-color);\n",
              "    }\n",
              "    40% {\n",
              "      border-color: transparent;\n",
              "      border-right-color: var(--fill-color);\n",
              "      border-top-color: var(--fill-color);\n",
              "    }\n",
              "    60% {\n",
              "      border-color: transparent;\n",
              "      border-right-color: var(--fill-color);\n",
              "    }\n",
              "    80% {\n",
              "      border-color: transparent;\n",
              "      border-right-color: var(--fill-color);\n",
              "      border-bottom-color: var(--fill-color);\n",
              "    }\n",
              "    90% {\n",
              "      border-color: transparent;\n",
              "      border-bottom-color: var(--fill-color);\n",
              "    }\n",
              "  }\n",
              "</style>\n",
              "\n",
              "      <script>\n",
              "        async function quickchart(key) {\n",
              "          const quickchartButtonEl =\n",
              "            document.querySelector('#' + key + ' button');\n",
              "          quickchartButtonEl.disabled = true;  // To prevent multiple clicks.\n",
              "          quickchartButtonEl.classList.add('colab-df-spinner');\n",
              "          try {\n",
              "            const charts = await google.colab.kernel.invokeFunction(\n",
              "                'suggestCharts', [key], {});\n",
              "          } catch (error) {\n",
              "            console.error('Error during call to suggestCharts:', error);\n",
              "          }\n",
              "          quickchartButtonEl.classList.remove('colab-df-spinner');\n",
              "          quickchartButtonEl.classList.add('colab-df-quickchart-complete');\n",
              "        }\n",
              "        (() => {\n",
              "          let quickchartButtonEl =\n",
              "            document.querySelector('#df-9209933a-aaa0-4b71-9558-0e0a5c58252d button');\n",
              "          quickchartButtonEl.style.display =\n",
              "            google.colab.kernel.accessAllowed ? 'block' : 'none';\n",
              "        })();\n",
              "      </script>\n",
              "    </div>\n",
              "\n",
              "    </div>\n",
              "  </div>\n"
            ],
            "application/vnd.google.colaboratory.intrinsic+json": {
              "type": "dataframe",
              "variable_name": "df"
            }
          },
          "metadata": {},
          "execution_count": 5
        }
      ]
    },
    {
      "cell_type": "code",
      "source": [
        "df = df[['name', 'release_date', 'detailed_description', 'tags']]"
      ],
      "metadata": {
        "id": "DYmBLW5S6cYC"
      },
      "execution_count": 6,
      "outputs": []
    },
    {
      "cell_type": "code",
      "source": [
        "df['release_year'] = pd.to_datetime(df['release_date']).dt.year"
      ],
      "metadata": {
        "id": "e8PSJ5EG-M8a",
        "outputId": "e2b72d8f-6e5a-4e2a-be26-91d130f20270",
        "colab": {
          "base_uri": "https://localhost:8080/"
        }
      },
      "execution_count": 7,
      "outputs": [
        {
          "output_type": "stream",
          "name": "stderr",
          "text": [
            "<ipython-input-7-4c1c43b0180d>:1: SettingWithCopyWarning: \n",
            "A value is trying to be set on a copy of a slice from a DataFrame.\n",
            "Try using .loc[row_indexer,col_indexer] = value instead\n",
            "\n",
            "See the caveats in the documentation: https://pandas.pydata.org/pandas-docs/stable/user_guide/indexing.html#returning-a-view-versus-a-copy\n",
            "  df['release_year'] = pd.to_datetime(df['release_date']).dt.year\n"
          ]
        }
      ]
    },
    {
      "cell_type": "code",
      "source": [
        "df.isnull().sum()/100"
      ],
      "metadata": {
        "id": "aFik5GtW6SOs",
        "outputId": "19fb5389-0cdd-4bf2-ac50-927992876faa",
        "colab": {
          "base_uri": "https://localhost:8080/",
          "height": 241
        }
      },
      "execution_count": 8,
      "outputs": [
        {
          "output_type": "execute_result",
          "data": {
            "text/plain": [
              "name                    0.00\n",
              "release_date            0.00\n",
              "detailed_description    1.97\n",
              "tags                    0.00\n",
              "release_year            0.00\n",
              "dtype: float64"
            ],
            "text/html": [
              "<div>\n",
              "<style scoped>\n",
              "    .dataframe tbody tr th:only-of-type {\n",
              "        vertical-align: middle;\n",
              "    }\n",
              "\n",
              "    .dataframe tbody tr th {\n",
              "        vertical-align: top;\n",
              "    }\n",
              "\n",
              "    .dataframe thead th {\n",
              "        text-align: right;\n",
              "    }\n",
              "</style>\n",
              "<table border=\"1\" class=\"dataframe\">\n",
              "  <thead>\n",
              "    <tr style=\"text-align: right;\">\n",
              "      <th></th>\n",
              "      <th>0</th>\n",
              "    </tr>\n",
              "  </thead>\n",
              "  <tbody>\n",
              "    <tr>\n",
              "      <th>name</th>\n",
              "      <td>0.00</td>\n",
              "    </tr>\n",
              "    <tr>\n",
              "      <th>release_date</th>\n",
              "      <td>0.00</td>\n",
              "    </tr>\n",
              "    <tr>\n",
              "      <th>detailed_description</th>\n",
              "      <td>1.97</td>\n",
              "    </tr>\n",
              "    <tr>\n",
              "      <th>tags</th>\n",
              "      <td>0.00</td>\n",
              "    </tr>\n",
              "    <tr>\n",
              "      <th>release_year</th>\n",
              "      <td>0.00</td>\n",
              "    </tr>\n",
              "  </tbody>\n",
              "</table>\n",
              "</div><br><label><b>dtype:</b> float64</label>"
            ]
          },
          "metadata": {},
          "execution_count": 8
        }
      ]
    },
    {
      "cell_type": "code",
      "source": [
        "df.dropna(inplace=True)\n",
        "df.shape"
      ],
      "metadata": {
        "id": "d-dGesWz669f",
        "outputId": "a5a24ae0-178d-4258-fd0a-7810fe59c7e3",
        "colab": {
          "base_uri": "https://localhost:8080/"
        }
      },
      "execution_count": 9,
      "outputs": [
        {
          "output_type": "execute_result",
          "data": {
            "text/plain": [
              "(89421, 5)"
            ]
          },
          "metadata": {},
          "execution_count": 9
        }
      ]
    },
    {
      "cell_type": "code",
      "source": [
        "df.info()"
      ],
      "metadata": {
        "id": "VnwBF5rS7PNn",
        "outputId": "c02d62d3-41d7-45fd-f015-6d322b0734a8",
        "colab": {
          "base_uri": "https://localhost:8080/"
        }
      },
      "execution_count": 10,
      "outputs": [
        {
          "output_type": "stream",
          "name": "stdout",
          "text": [
            "<class 'pandas.core.frame.DataFrame'>\n",
            "Index: 89421 entries, 0 to 89617\n",
            "Data columns (total 5 columns):\n",
            " #   Column                Non-Null Count  Dtype \n",
            "---  ------                --------------  ----- \n",
            " 0   name                  89421 non-null  object\n",
            " 1   release_date          89421 non-null  object\n",
            " 2   detailed_description  89421 non-null  object\n",
            " 3   tags                  89421 non-null  object\n",
            " 4   release_year          89421 non-null  int32 \n",
            "dtypes: int32(1), object(4)\n",
            "memory usage: 3.8+ MB\n"
          ]
        }
      ]
    },
    {
      "cell_type": "code",
      "source": [
        "df = df[df['release_year'] > 2020].reset_index(drop=True)"
      ],
      "metadata": {
        "id": "yL1BF7vT7n3T"
      },
      "execution_count": 11,
      "outputs": []
    },
    {
      "cell_type": "code",
      "source": [
        "df['content'] = df['detailed_description'] + ' ' + df['tags']"
      ],
      "metadata": {
        "id": "6Sdp5gmt7a3s"
      },
      "execution_count": 12,
      "outputs": []
    },
    {
      "cell_type": "code",
      "source": [
        "df = df[['name', 'release_year', 'content']]"
      ],
      "metadata": {
        "id": "fYBYJzD87iBg"
      },
      "execution_count": 13,
      "outputs": []
    },
    {
      "cell_type": "code",
      "source": [
        "df_sample = df.sample(n=1000, random_state=40, ).reset_index(drop=True)\n",
        "df_sample.shape"
      ],
      "metadata": {
        "id": "CTseNRhHQZOb",
        "outputId": "35cc5908-1dd4-432a-c5df-63d86d905a17",
        "colab": {
          "base_uri": "https://localhost:8080/"
        }
      },
      "execution_count": 14,
      "outputs": [
        {
          "output_type": "execute_result",
          "data": {
            "text/plain": [
              "(1000, 3)"
            ]
          },
          "metadata": {},
          "execution_count": 14
        }
      ]
    },
    {
      "cell_type": "code",
      "source": [
        "pip install langdetect"
      ],
      "metadata": {
        "id": "l6mVfx0w7ZYg",
        "outputId": "79ad6fff-676b-45b2-edf2-fcba44e9d159",
        "colab": {
          "base_uri": "https://localhost:8080/"
        }
      },
      "execution_count": 19,
      "outputs": [
        {
          "output_type": "stream",
          "name": "stdout",
          "text": [
            "Collecting langdetect\n",
            "  Downloading langdetect-1.0.9.tar.gz (981 kB)\n",
            "\u001b[2K     \u001b[90m━━━━━━━━━━━━━━━━━━━━━━━━━━━━━━━━━━━━━━\u001b[0m \u001b[32m981.5/981.5 kB\u001b[0m \u001b[31m12.5 MB/s\u001b[0m eta \u001b[36m0:00:00\u001b[0m\n",
            "\u001b[?25h  Preparing metadata (setup.py) ... \u001b[?25l\u001b[?25hdone\n",
            "Requirement already satisfied: six in /usr/local/lib/python3.11/dist-packages (from langdetect) (1.17.0)\n",
            "Building wheels for collected packages: langdetect\n",
            "  Building wheel for langdetect (setup.py) ... \u001b[?25l\u001b[?25hdone\n",
            "  Created wheel for langdetect: filename=langdetect-1.0.9-py3-none-any.whl size=993223 sha256=768c9e6f79ebdca9365c8bbc7cdcbeafcf9fe8d7184c16fda3fea7bb998ad375\n",
            "  Stored in directory: /root/.cache/pip/wheels/0a/f2/b2/e5ca405801e05eb7c8ed5b3b4bcf1fcabcd6272c167640072e\n",
            "Successfully built langdetect\n",
            "Installing collected packages: langdetect\n",
            "Successfully installed langdetect-1.0.9\n"
          ]
        }
      ]
    },
    {
      "cell_type": "code",
      "source": [
        "from langdetect import detect\n",
        "df_sample['language'] = df_sample['content'].apply(lambda x: detect(x))\n",
        "df_sample = df_sample[df_sample['language'] == 'en']"
      ],
      "metadata": {
        "id": "K6yBxGJU8ICA"
      },
      "execution_count": 23,
      "outputs": []
    },
    {
      "cell_type": "code",
      "source": [
        "df_sample"
      ],
      "metadata": {
        "id": "YAz1VkVk7jRt",
        "outputId": "80d39dfa-77d7-4378-fc64-04f73bb18eea",
        "colab": {
          "base_uri": "https://localhost:8080/",
          "height": 423
        }
      },
      "execution_count": 24,
      "outputs": [
        {
          "output_type": "execute_result",
          "data": {
            "text/plain": [
              "                         name  release_year  \\\n",
              "0        Tim Climpy's Warfair          2024   \n",
              "1                 Crypto Rush          2024   \n",
              "2                You Are Sick          2023   \n",
              "3               A Sinful Camp          2022   \n",
              "4                      Ticker          2024   \n",
              "..                        ...           ...   \n",
              "995     Drakkon World Builder          2023   \n",
              "996  Kaverini Nuuk Adventures          2022   \n",
              "997    Jrago The Demon Hunter          2023   \n",
              "998  Insights - Maniac Vortex          2021   \n",
              "999              Nayati River          2021   \n",
              "\n",
              "                                               content language  \n",
              "0    A word from Tim Climpy Hi, I'm Tim Climpy and ...       en  \n",
              "1    This game is a parody created under the influe...       en  \n",
              "2    Wishlist Prison Life 2! Join our Discord! Abou...       en  \n",
              "3    ◆Featured Systems ◇Full CG mode can be turned ...       en  \n",
              "4    This game is a colorful platform game where pl...       en  \n",
              "..                                                 ...      ...  \n",
              "995  Drakkon World Builder is a comprehensive tool ...       en  \n",
              "996  Welcome to Nuuk, the capital of Greenland! Des...       en  \n",
              "997  Get ready for an all-new RETRO style gaming ex...       en  \n",
              "998  Young journalist Thomas wants to write a newsp...       en  \n",
              "999  Important announcement This game was not relea...       en  \n",
              "\n",
              "[981 rows x 4 columns]"
            ],
            "text/html": [
              "\n",
              "  <div id=\"df-c9bf975e-9147-416d-ba38-b47203befed1\" class=\"colab-df-container\">\n",
              "    <div>\n",
              "<style scoped>\n",
              "    .dataframe tbody tr th:only-of-type {\n",
              "        vertical-align: middle;\n",
              "    }\n",
              "\n",
              "    .dataframe tbody tr th {\n",
              "        vertical-align: top;\n",
              "    }\n",
              "\n",
              "    .dataframe thead th {\n",
              "        text-align: right;\n",
              "    }\n",
              "</style>\n",
              "<table border=\"1\" class=\"dataframe\">\n",
              "  <thead>\n",
              "    <tr style=\"text-align: right;\">\n",
              "      <th></th>\n",
              "      <th>name</th>\n",
              "      <th>release_year</th>\n",
              "      <th>content</th>\n",
              "      <th>language</th>\n",
              "    </tr>\n",
              "  </thead>\n",
              "  <tbody>\n",
              "    <tr>\n",
              "      <th>0</th>\n",
              "      <td>Tim Climpy's Warfair</td>\n",
              "      <td>2024</td>\n",
              "      <td>A word from Tim Climpy Hi, I'm Tim Climpy and ...</td>\n",
              "      <td>en</td>\n",
              "    </tr>\n",
              "    <tr>\n",
              "      <th>1</th>\n",
              "      <td>Crypto Rush</td>\n",
              "      <td>2024</td>\n",
              "      <td>This game is a parody created under the influe...</td>\n",
              "      <td>en</td>\n",
              "    </tr>\n",
              "    <tr>\n",
              "      <th>2</th>\n",
              "      <td>You Are Sick</td>\n",
              "      <td>2023</td>\n",
              "      <td>Wishlist Prison Life 2! Join our Discord! Abou...</td>\n",
              "      <td>en</td>\n",
              "    </tr>\n",
              "    <tr>\n",
              "      <th>3</th>\n",
              "      <td>A Sinful Camp</td>\n",
              "      <td>2022</td>\n",
              "      <td>◆Featured Systems ◇Full CG mode can be turned ...</td>\n",
              "      <td>en</td>\n",
              "    </tr>\n",
              "    <tr>\n",
              "      <th>4</th>\n",
              "      <td>Ticker</td>\n",
              "      <td>2024</td>\n",
              "      <td>This game is a colorful platform game where pl...</td>\n",
              "      <td>en</td>\n",
              "    </tr>\n",
              "    <tr>\n",
              "      <th>...</th>\n",
              "      <td>...</td>\n",
              "      <td>...</td>\n",
              "      <td>...</td>\n",
              "      <td>...</td>\n",
              "    </tr>\n",
              "    <tr>\n",
              "      <th>995</th>\n",
              "      <td>Drakkon World Builder</td>\n",
              "      <td>2023</td>\n",
              "      <td>Drakkon World Builder is a comprehensive tool ...</td>\n",
              "      <td>en</td>\n",
              "    </tr>\n",
              "    <tr>\n",
              "      <th>996</th>\n",
              "      <td>Kaverini Nuuk Adventures</td>\n",
              "      <td>2022</td>\n",
              "      <td>Welcome to Nuuk, the capital of Greenland! Des...</td>\n",
              "      <td>en</td>\n",
              "    </tr>\n",
              "    <tr>\n",
              "      <th>997</th>\n",
              "      <td>Jrago The Demon Hunter</td>\n",
              "      <td>2023</td>\n",
              "      <td>Get ready for an all-new RETRO style gaming ex...</td>\n",
              "      <td>en</td>\n",
              "    </tr>\n",
              "    <tr>\n",
              "      <th>998</th>\n",
              "      <td>Insights - Maniac Vortex</td>\n",
              "      <td>2021</td>\n",
              "      <td>Young journalist Thomas wants to write a newsp...</td>\n",
              "      <td>en</td>\n",
              "    </tr>\n",
              "    <tr>\n",
              "      <th>999</th>\n",
              "      <td>Nayati River</td>\n",
              "      <td>2021</td>\n",
              "      <td>Important announcement This game was not relea...</td>\n",
              "      <td>en</td>\n",
              "    </tr>\n",
              "  </tbody>\n",
              "</table>\n",
              "<p>981 rows × 4 columns</p>\n",
              "</div>\n",
              "    <div class=\"colab-df-buttons\">\n",
              "\n",
              "  <div class=\"colab-df-container\">\n",
              "    <button class=\"colab-df-convert\" onclick=\"convertToInteractive('df-c9bf975e-9147-416d-ba38-b47203befed1')\"\n",
              "            title=\"Convert this dataframe to an interactive table.\"\n",
              "            style=\"display:none;\">\n",
              "\n",
              "  <svg xmlns=\"http://www.w3.org/2000/svg\" height=\"24px\" viewBox=\"0 -960 960 960\">\n",
              "    <path d=\"M120-120v-720h720v720H120Zm60-500h600v-160H180v160Zm220 220h160v-160H400v160Zm0 220h160v-160H400v160ZM180-400h160v-160H180v160Zm440 0h160v-160H620v160ZM180-180h160v-160H180v160Zm440 0h160v-160H620v160Z\"/>\n",
              "  </svg>\n",
              "    </button>\n",
              "\n",
              "  <style>\n",
              "    .colab-df-container {\n",
              "      display:flex;\n",
              "      gap: 12px;\n",
              "    }\n",
              "\n",
              "    .colab-df-convert {\n",
              "      background-color: #E8F0FE;\n",
              "      border: none;\n",
              "      border-radius: 50%;\n",
              "      cursor: pointer;\n",
              "      display: none;\n",
              "      fill: #1967D2;\n",
              "      height: 32px;\n",
              "      padding: 0 0 0 0;\n",
              "      width: 32px;\n",
              "    }\n",
              "\n",
              "    .colab-df-convert:hover {\n",
              "      background-color: #E2EBFA;\n",
              "      box-shadow: 0px 1px 2px rgba(60, 64, 67, 0.3), 0px 1px 3px 1px rgba(60, 64, 67, 0.15);\n",
              "      fill: #174EA6;\n",
              "    }\n",
              "\n",
              "    .colab-df-buttons div {\n",
              "      margin-bottom: 4px;\n",
              "    }\n",
              "\n",
              "    [theme=dark] .colab-df-convert {\n",
              "      background-color: #3B4455;\n",
              "      fill: #D2E3FC;\n",
              "    }\n",
              "\n",
              "    [theme=dark] .colab-df-convert:hover {\n",
              "      background-color: #434B5C;\n",
              "      box-shadow: 0px 1px 3px 1px rgba(0, 0, 0, 0.15);\n",
              "      filter: drop-shadow(0px 1px 2px rgba(0, 0, 0, 0.3));\n",
              "      fill: #FFFFFF;\n",
              "    }\n",
              "  </style>\n",
              "\n",
              "    <script>\n",
              "      const buttonEl =\n",
              "        document.querySelector('#df-c9bf975e-9147-416d-ba38-b47203befed1 button.colab-df-convert');\n",
              "      buttonEl.style.display =\n",
              "        google.colab.kernel.accessAllowed ? 'block' : 'none';\n",
              "\n",
              "      async function convertToInteractive(key) {\n",
              "        const element = document.querySelector('#df-c9bf975e-9147-416d-ba38-b47203befed1');\n",
              "        const dataTable =\n",
              "          await google.colab.kernel.invokeFunction('convertToInteractive',\n",
              "                                                    [key], {});\n",
              "        if (!dataTable) return;\n",
              "\n",
              "        const docLinkHtml = 'Like what you see? Visit the ' +\n",
              "          '<a target=\"_blank\" href=https://colab.research.google.com/notebooks/data_table.ipynb>data table notebook</a>'\n",
              "          + ' to learn more about interactive tables.';\n",
              "        element.innerHTML = '';\n",
              "        dataTable['output_type'] = 'display_data';\n",
              "        await google.colab.output.renderOutput(dataTable, element);\n",
              "        const docLink = document.createElement('div');\n",
              "        docLink.innerHTML = docLinkHtml;\n",
              "        element.appendChild(docLink);\n",
              "      }\n",
              "    </script>\n",
              "  </div>\n",
              "\n",
              "\n",
              "    <div id=\"df-59a2a7c7-d56e-489d-8a44-9da7fff2f1b1\">\n",
              "      <button class=\"colab-df-quickchart\" onclick=\"quickchart('df-59a2a7c7-d56e-489d-8a44-9da7fff2f1b1')\"\n",
              "                title=\"Suggest charts\"\n",
              "                style=\"display:none;\">\n",
              "\n",
              "<svg xmlns=\"http://www.w3.org/2000/svg\" height=\"24px\"viewBox=\"0 0 24 24\"\n",
              "     width=\"24px\">\n",
              "    <g>\n",
              "        <path d=\"M19 3H5c-1.1 0-2 .9-2 2v14c0 1.1.9 2 2 2h14c1.1 0 2-.9 2-2V5c0-1.1-.9-2-2-2zM9 17H7v-7h2v7zm4 0h-2V7h2v10zm4 0h-2v-4h2v4z\"/>\n",
              "    </g>\n",
              "</svg>\n",
              "      </button>\n",
              "\n",
              "<style>\n",
              "  .colab-df-quickchart {\n",
              "      --bg-color: #E8F0FE;\n",
              "      --fill-color: #1967D2;\n",
              "      --hover-bg-color: #E2EBFA;\n",
              "      --hover-fill-color: #174EA6;\n",
              "      --disabled-fill-color: #AAA;\n",
              "      --disabled-bg-color: #DDD;\n",
              "  }\n",
              "\n",
              "  [theme=dark] .colab-df-quickchart {\n",
              "      --bg-color: #3B4455;\n",
              "      --fill-color: #D2E3FC;\n",
              "      --hover-bg-color: #434B5C;\n",
              "      --hover-fill-color: #FFFFFF;\n",
              "      --disabled-bg-color: #3B4455;\n",
              "      --disabled-fill-color: #666;\n",
              "  }\n",
              "\n",
              "  .colab-df-quickchart {\n",
              "    background-color: var(--bg-color);\n",
              "    border: none;\n",
              "    border-radius: 50%;\n",
              "    cursor: pointer;\n",
              "    display: none;\n",
              "    fill: var(--fill-color);\n",
              "    height: 32px;\n",
              "    padding: 0;\n",
              "    width: 32px;\n",
              "  }\n",
              "\n",
              "  .colab-df-quickchart:hover {\n",
              "    background-color: var(--hover-bg-color);\n",
              "    box-shadow: 0 1px 2px rgba(60, 64, 67, 0.3), 0 1px 3px 1px rgba(60, 64, 67, 0.15);\n",
              "    fill: var(--button-hover-fill-color);\n",
              "  }\n",
              "\n",
              "  .colab-df-quickchart-complete:disabled,\n",
              "  .colab-df-quickchart-complete:disabled:hover {\n",
              "    background-color: var(--disabled-bg-color);\n",
              "    fill: var(--disabled-fill-color);\n",
              "    box-shadow: none;\n",
              "  }\n",
              "\n",
              "  .colab-df-spinner {\n",
              "    border: 2px solid var(--fill-color);\n",
              "    border-color: transparent;\n",
              "    border-bottom-color: var(--fill-color);\n",
              "    animation:\n",
              "      spin 1s steps(1) infinite;\n",
              "  }\n",
              "\n",
              "  @keyframes spin {\n",
              "    0% {\n",
              "      border-color: transparent;\n",
              "      border-bottom-color: var(--fill-color);\n",
              "      border-left-color: var(--fill-color);\n",
              "    }\n",
              "    20% {\n",
              "      border-color: transparent;\n",
              "      border-left-color: var(--fill-color);\n",
              "      border-top-color: var(--fill-color);\n",
              "    }\n",
              "    30% {\n",
              "      border-color: transparent;\n",
              "      border-left-color: var(--fill-color);\n",
              "      border-top-color: var(--fill-color);\n",
              "      border-right-color: var(--fill-color);\n",
              "    }\n",
              "    40% {\n",
              "      border-color: transparent;\n",
              "      border-right-color: var(--fill-color);\n",
              "      border-top-color: var(--fill-color);\n",
              "    }\n",
              "    60% {\n",
              "      border-color: transparent;\n",
              "      border-right-color: var(--fill-color);\n",
              "    }\n",
              "    80% {\n",
              "      border-color: transparent;\n",
              "      border-right-color: var(--fill-color);\n",
              "      border-bottom-color: var(--fill-color);\n",
              "    }\n",
              "    90% {\n",
              "      border-color: transparent;\n",
              "      border-bottom-color: var(--fill-color);\n",
              "    }\n",
              "  }\n",
              "</style>\n",
              "\n",
              "      <script>\n",
              "        async function quickchart(key) {\n",
              "          const quickchartButtonEl =\n",
              "            document.querySelector('#' + key + ' button');\n",
              "          quickchartButtonEl.disabled = true;  // To prevent multiple clicks.\n",
              "          quickchartButtonEl.classList.add('colab-df-spinner');\n",
              "          try {\n",
              "            const charts = await google.colab.kernel.invokeFunction(\n",
              "                'suggestCharts', [key], {});\n",
              "          } catch (error) {\n",
              "            console.error('Error during call to suggestCharts:', error);\n",
              "          }\n",
              "          quickchartButtonEl.classList.remove('colab-df-spinner');\n",
              "          quickchartButtonEl.classList.add('colab-df-quickchart-complete');\n",
              "        }\n",
              "        (() => {\n",
              "          let quickchartButtonEl =\n",
              "            document.querySelector('#df-59a2a7c7-d56e-489d-8a44-9da7fff2f1b1 button');\n",
              "          quickchartButtonEl.style.display =\n",
              "            google.colab.kernel.accessAllowed ? 'block' : 'none';\n",
              "        })();\n",
              "      </script>\n",
              "    </div>\n",
              "\n",
              "  <div id=\"id_538b48e5-ea4a-483d-93c3-1df08f5bb677\">\n",
              "    <style>\n",
              "      .colab-df-generate {\n",
              "        background-color: #E8F0FE;\n",
              "        border: none;\n",
              "        border-radius: 50%;\n",
              "        cursor: pointer;\n",
              "        display: none;\n",
              "        fill: #1967D2;\n",
              "        height: 32px;\n",
              "        padding: 0 0 0 0;\n",
              "        width: 32px;\n",
              "      }\n",
              "\n",
              "      .colab-df-generate:hover {\n",
              "        background-color: #E2EBFA;\n",
              "        box-shadow: 0px 1px 2px rgba(60, 64, 67, 0.3), 0px 1px 3px 1px rgba(60, 64, 67, 0.15);\n",
              "        fill: #174EA6;\n",
              "      }\n",
              "\n",
              "      [theme=dark] .colab-df-generate {\n",
              "        background-color: #3B4455;\n",
              "        fill: #D2E3FC;\n",
              "      }\n",
              "\n",
              "      [theme=dark] .colab-df-generate:hover {\n",
              "        background-color: #434B5C;\n",
              "        box-shadow: 0px 1px 3px 1px rgba(0, 0, 0, 0.15);\n",
              "        filter: drop-shadow(0px 1px 2px rgba(0, 0, 0, 0.3));\n",
              "        fill: #FFFFFF;\n",
              "      }\n",
              "    </style>\n",
              "    <button class=\"colab-df-generate\" onclick=\"generateWithVariable('df_sample')\"\n",
              "            title=\"Generate code using this dataframe.\"\n",
              "            style=\"display:none;\">\n",
              "\n",
              "  <svg xmlns=\"http://www.w3.org/2000/svg\" height=\"24px\"viewBox=\"0 0 24 24\"\n",
              "       width=\"24px\">\n",
              "    <path d=\"M7,19H8.4L18.45,9,17,7.55,7,17.6ZM5,21V16.75L18.45,3.32a2,2,0,0,1,2.83,0l1.4,1.43a1.91,1.91,0,0,1,.58,1.4,1.91,1.91,0,0,1-.58,1.4L9.25,21ZM18.45,9,17,7.55Zm-12,3A5.31,5.31,0,0,0,4.9,8.1,5.31,5.31,0,0,0,1,6.5,5.31,5.31,0,0,0,4.9,4.9,5.31,5.31,0,0,0,6.5,1,5.31,5.31,0,0,0,8.1,4.9,5.31,5.31,0,0,0,12,6.5,5.46,5.46,0,0,0,6.5,12Z\"/>\n",
              "  </svg>\n",
              "    </button>\n",
              "    <script>\n",
              "      (() => {\n",
              "      const buttonEl =\n",
              "        document.querySelector('#id_538b48e5-ea4a-483d-93c3-1df08f5bb677 button.colab-df-generate');\n",
              "      buttonEl.style.display =\n",
              "        google.colab.kernel.accessAllowed ? 'block' : 'none';\n",
              "\n",
              "      buttonEl.onclick = () => {\n",
              "        google.colab.notebook.generateWithVariable('df_sample');\n",
              "      }\n",
              "      })();\n",
              "    </script>\n",
              "  </div>\n",
              "\n",
              "    </div>\n",
              "  </div>\n"
            ],
            "application/vnd.google.colaboratory.intrinsic+json": {
              "type": "dataframe",
              "variable_name": "df_sample",
              "summary": "{\n  \"name\": \"df_sample\",\n  \"rows\": 981,\n  \"fields\": [\n    {\n      \"column\": \"name\",\n      \"properties\": {\n        \"dtype\": \"string\",\n        \"num_unique_values\": 981,\n        \"samples\": [\n          \"Market Warfare\",\n          \"Easter 2024 Puzzle\",\n          \"Dead Alone\"\n        ],\n        \"semantic_type\": \"\",\n        \"description\": \"\"\n      }\n    },\n    {\n      \"column\": \"release_year\",\n      \"properties\": {\n        \"dtype\": \"int32\",\n        \"num_unique_values\": 5,\n        \"samples\": [\n          2023,\n          2025,\n          2022\n        ],\n        \"semantic_type\": \"\",\n        \"description\": \"\"\n      }\n    },\n    {\n      \"column\": \"content\",\n      \"properties\": {\n        \"dtype\": \"string\",\n        \"num_unique_values\": 981,\n        \"samples\": [\n          \"Get ready for a gaming experience like no other with Market Warfare \\u2013 a strategy game that blends the accessible charm of Tower Defense with the heart-pounding intensity of real-time strategy games. Enter the battlefield as the brave commander of the Fruit Army, entrusted with the pivotal mission of stopping the evil Vegetables and safeguarding the market\\u2019s very existence. Use the individual skillset of each fruit under your command. The key to victory? Assembling a squad that synergizes flawlessly. But be on guard \\u2013 the Vegetables are far from mere pushovers. In a refreshing departure from typical Tower Defense fare, Market Warfare presents a challenge like no other. The adversary\\u2019s relentless assault seeks to dismantle your defenses with every attack. Numerous waves of enemies, armored foes, and the unexpected appearance of Special Units keep you on your toes. Adaptation becomes the key; reinforce your defenses or pivot your entire strategy to outlast the storm. Get ready for a gaming adventure that pushes your tactical prowess to the edge. Are you prepared to lead your Fruit Army to victory? The market\\u2019s fate rests in your hands! {'Tower Defense': 186, 'Strategy': 180, 'Singleplayer': 177, 'Comedy': 174, '3D': 171, 'Real Time Tactics': 165, 'Isometric': 162, 'Cartoony': 159, 'Survival': 155, 'PvE': 147, 'Military': 138, 'Top-Down Shooter': 128, 'Bullet Hell': 126, 'Top-Down': 119, 'Fantasy': 111, 'Linear': 101, 'Colorful': 89, 'Casual': 82, 'Clicker': 79, 'Stylized': 74}\",\n          \"Easter 2024 Puzzle is an puzzel game with beautiful easter eggs in an stunning synthwave style. You have to assemble a single image from random generated indivdual pieces. Combine all of the smart singel frames into one big image and unlock the next level. features: 12 Levels 25 to 69 frames very difficult puzzle adventure auto saving simple mouse control 100 steam awards  {'Casual': 67, 'Board Game': 54, 'Isometric': 51, \\\"1990's\\\": 47, 'Grid-Based Movement': 42, 'Singleplayer': 34, 'Puzzle': 31, 'Family Friendly': 29, 'Sokoban': 27, 'Indie': 25}\",\n          \"Dead Alone is an intense first-person survival shooter set in a dangerous apocalyptic cityscape. In this desolate landscape, your precision in shooting and meticulous resource management will be the key to survival. In Dead Alone, players can choose between two gripping game modes: Survival and Horde . In the Survival mode, they navigate a fully open world , making crucial decisions on where to go, which enemies to confront, and how to manage gear and fatigue while scavenging for valuable loot. Alternatively, the Horde mode offers a more linear progression through sectors , challenging players to face waves of enemies and strategically upgrade their gear through a shop. In each mode, players must wield their gathered resources and equipment to battle an endless onslaught of increasingly relentless foes . Prepare for an experience where precision, resourcefulness, and survival instincts will be put to the ultimate test in this unforgiving post-apocalyptic city. EXPLORATION In Dead Alone, embark on the exploration of a small open world with vibrant and stylized urban environments . The landscape offers a mix of dilapidated buildings, ruined streets, and crumbling infrastructure, all of which have succumbed to the ravages of time and disaster. Nature has started to reclaim its territory, with overgrown vegetation breaking through the concrete, adding an eerie and haunting charm to the surroundings. On the other hand, there are pockets of the city where remnants of human settlements still exist. You may stumble upon abandoned shelters, once inhabited by survivors like yourself. Exploring these areas may reward you with valuable resources, ammunition, or even new powerful weapons to bolster your chances of survival. COMBAT In Dead Alone, combat is a constant battle against hordes of zombies with diverse classes . As you advance through the game, the intensity of combat escalates, with increasingly powerful and specialized zombies appearing. Surviving these encounters demands smart utilization of your gear, projectiles, and resources. Your weapons choices, will be critical in taking down the undead menace effectively. To prevail against your ennemies you\\u2019ll also need to adapt and develop your combat skills, employing precise aim, resourceful tactics, and efficient use of your surroundings. GEAR In Dead Alone, the gear plays a vital role in your survival journey. Explore the open world and discover an array of weapons with varying rarities, each impacting their effectiveness. Special weapons are also hidden throughout the game, waiting to be discovered as you progress. These rare finds can be true game-changers, granting you a significant advantage. Managing your health and ammunition is crucial, as you can quickly find yourself overwhelmed if you run out of supplies during intense battles. Strategic use of healing items, upgrades and crafting resources can be the difference between life and death. The diverse range of gear options in Dead Alone ensures that your choices matter. You must decide which weapons to wield, how to upgrade them, which items to craft, and how to use healing resources effectively. ABOUT ME Hey, I\\u2019m Nerwy ! I\\u2019m a solo game dev and I started working on this game more than 3 years ago as a side project, it has been a long rocky road to get here but i\\u2019m very proud of being able to show this project finally near completion ! If you think you could enjoy this game, any wishlist would help me a lot ! {'FPS': 50, 'Post-apocalyptic': 43, 'Action': 42, 'Adventure': 40, 'Zombies': 40, 'Stylized': 38, 'Survival': 34, 'Exploration': 29, 'Singleplayer': 27, 'Shooter': 24, 'Violent': 21, 'Indie': 20, 'First-Person': 19, 'PvE': 17, 'Action-Adventure': 15}\"\n        ],\n        \"semantic_type\": \"\",\n        \"description\": \"\"\n      }\n    },\n    {\n      \"column\": \"language\",\n      \"properties\": {\n        \"dtype\": \"category\",\n        \"num_unique_values\": 1,\n        \"samples\": [\n          \"en\"\n        ],\n        \"semantic_type\": \"\",\n        \"description\": \"\"\n      }\n    }\n  ]\n}"
            }
          },
          "metadata": {},
          "execution_count": 24
        }
      ]
    },
    {
      "cell_type": "code",
      "source": [
        "df_sample.info()"
      ],
      "metadata": {
        "id": "wtqkq-07-wyM",
        "outputId": "f5de6a99-692c-4f3c-d023-f04b6c9dbbff",
        "colab": {
          "base_uri": "https://localhost:8080/"
        }
      },
      "execution_count": 25,
      "outputs": [
        {
          "output_type": "stream",
          "name": "stdout",
          "text": [
            "<class 'pandas.core.frame.DataFrame'>\n",
            "Index: 981 entries, 0 to 999\n",
            "Data columns (total 4 columns):\n",
            " #   Column        Non-Null Count  Dtype \n",
            "---  ------        --------------  ----- \n",
            " 0   name          981 non-null    object\n",
            " 1   release_year  981 non-null    int32 \n",
            " 2   content       981 non-null    object\n",
            " 3   language      981 non-null    object\n",
            "dtypes: int32(1), object(3)\n",
            "memory usage: 34.5+ KB\n"
          ]
        }
      ]
    },
    {
      "cell_type": "markdown",
      "source": [
        "# **Preprocessing**"
      ],
      "metadata": {
        "id": "7L5VHyo1x1Lm"
      }
    },
    {
      "cell_type": "code",
      "source": [
        "import re"
      ],
      "metadata": {
        "id": "v-irm3n_x3lN"
      },
      "execution_count": 26,
      "outputs": []
    },
    {
      "cell_type": "code",
      "source": [
        "# clean_spcl = re.compile('[/(){}\\|@,;]')\n",
        "# clean_symbol = re.compile('[^0-9a-z #+_]')\n",
        "# sastrawi = StopWordRemoverFactory()\n",
        "# stopworda = sastrawi.get_stop_words()\n",
        "# factory = StemmerFactory()\n",
        "# stemmer = factory.create_stemmer()\n",
        "\n",
        "# def clean_text(text):\n",
        "#     text = text.lower()\n",
        "#     text = clean_spcl.sub(' ', text)\n",
        "#     text = clean_symbol.sub('', text)\n",
        "#     text = stemmer.stem(text)\n",
        "#     text = ' '.join(word for word in text.split() if word not in stopworda)\n",
        "#     return text"
      ],
      "metadata": {
        "id": "V_Y-6t-SyVuV"
      },
      "execution_count": 27,
      "outputs": []
    },
    {
      "cell_type": "code",
      "source": [
        "import ast\n",
        "def convert_text(text):\n",
        "    try:\n",
        "        teks = ast.literal_eval(text)\n",
        "        return \" \".join([word.lower() for word in teks]) # Convert to lowercase here\n",
        "    except (ValueError, SyntaxError):\n",
        "        if isinstance(text, str):\n",
        "          return \" \".join([word.lower() for word in text.split()]) # Handle string cases\n",
        "        return text\n",
        "\n",
        "df_sample['content'] = df_sample['content'].apply(convert_text)"
      ],
      "metadata": {
        "id": "7YIVL7g8AMUc",
        "outputId": "6520c81c-0940-4079-e9b0-d53b55f1be70",
        "colab": {
          "base_uri": "https://localhost:8080/"
        }
      },
      "execution_count": 28,
      "outputs": [
        {
          "output_type": "stream",
          "name": "stderr",
          "text": [
            "<ipython-input-28-103933a3d6f7>:11: SettingWithCopyWarning: \n",
            "A value is trying to be set on a copy of a slice from a DataFrame.\n",
            "Try using .loc[row_indexer,col_indexer] = value instead\n",
            "\n",
            "See the caveats in the documentation: https://pandas.pydata.org/pandas-docs/stable/user_guide/indexing.html#returning-a-view-versus-a-copy\n",
            "  df_sample['content'] = df_sample['content'].apply(convert_text)\n"
          ]
        }
      ]
    },
    {
      "cell_type": "code",
      "source": [
        "def cleaning_text(text) :\n",
        "    text = re.sub(r'#\\w+', '', text) #remove hashtag\n",
        "    text = re.sub(r'\\b\\w*\\d\\w*\\b', '', text) #remove words with numbers in the middle\n",
        "    text = re.sub(r'@\\S+', '', text) #remove mentions (@username)\n",
        "    text = re.sub(r'https?://\\S+|www\\.\\S+', '', text) #remove URLs\n",
        "    text = re.sub(r'[^a-zA-Z0-9\\s]', '', text) #remove special characters\n",
        "    return text\n",
        "\n",
        "df_sample['clean_content'] = df_sample['content'].apply(cleaning_text)"
      ],
      "metadata": {
        "id": "rhxToi2TRY6P",
        "outputId": "c16f4ce3-5a73-4cbe-9740-1408a65390ac",
        "colab": {
          "base_uri": "https://localhost:8080/"
        }
      },
      "execution_count": 29,
      "outputs": [
        {
          "output_type": "stream",
          "name": "stderr",
          "text": [
            "<ipython-input-29-18cfdc3f0d35>:9: SettingWithCopyWarning: \n",
            "A value is trying to be set on a copy of a slice from a DataFrame.\n",
            "Try using .loc[row_indexer,col_indexer] = value instead\n",
            "\n",
            "See the caveats in the documentation: https://pandas.pydata.org/pandas-docs/stable/user_guide/indexing.html#returning-a-view-versus-a-copy\n",
            "  df_sample['clean_content'] = df_sample['content'].apply(cleaning_text)\n"
          ]
        }
      ]
    },
    {
      "cell_type": "code",
      "source": [
        "nltk.download('punkt_tab')\n",
        "df_sample['tokenized'] = df_sample['clean_content'].apply(word_tokenize)"
      ],
      "metadata": {
        "id": "EBrKke6JAaWe",
        "outputId": "aea1dbb0-abcf-4f7a-8acc-d89efc8e2958",
        "colab": {
          "base_uri": "https://localhost:8080/"
        }
      },
      "execution_count": 30,
      "outputs": [
        {
          "output_type": "stream",
          "name": "stderr",
          "text": [
            "[nltk_data] Downloading package punkt_tab to /root/nltk_data...\n",
            "[nltk_data]   Unzipping tokenizers/punkt_tab.zip.\n",
            "<ipython-input-30-8dbcf6368073>:2: SettingWithCopyWarning: \n",
            "A value is trying to be set on a copy of a slice from a DataFrame.\n",
            "Try using .loc[row_indexer,col_indexer] = value instead\n",
            "\n",
            "See the caveats in the documentation: https://pandas.pydata.org/pandas-docs/stable/user_guide/indexing.html#returning-a-view-versus-a-copy\n",
            "  df_sample['tokenized'] = df_sample['clean_content'].apply(word_tokenize)\n"
          ]
        }
      ]
    },
    {
      "cell_type": "code",
      "source": [
        "nltk.download('stopwords')\n",
        "stop_words = nltk.corpus.stopwords.words('english')\n",
        "df_sample['stopword'] = df_sample['tokenized'].apply(lambda x: [word for word in x if word.lower() not in stop_words])"
      ],
      "metadata": {
        "id": "GlNy8PtY9Tel",
        "outputId": "f015e759-5f86-44f0-e183-43c1a13531f0",
        "colab": {
          "base_uri": "https://localhost:8080/"
        }
      },
      "execution_count": 31,
      "outputs": [
        {
          "output_type": "stream",
          "name": "stderr",
          "text": [
            "[nltk_data] Downloading package stopwords to /root/nltk_data...\n",
            "[nltk_data]   Unzipping corpora/stopwords.zip.\n",
            "<ipython-input-31-a4419d1fe065>:3: SettingWithCopyWarning: \n",
            "A value is trying to be set on a copy of a slice from a DataFrame.\n",
            "Try using .loc[row_indexer,col_indexer] = value instead\n",
            "\n",
            "See the caveats in the documentation: https://pandas.pydata.org/pandas-docs/stable/user_guide/indexing.html#returning-a-view-versus-a-copy\n",
            "  df_sample['stopword'] = df_sample['tokenized'].apply(lambda x: [word for word in x if word.lower() not in stop_words])\n"
          ]
        }
      ]
    },
    {
      "cell_type": "code",
      "source": [
        "# from stemmer.porter2 import Porter2Stemmer\n",
        "# stemmer = Porter2Stemmer()\n",
        "# factory = StemmerFactory()\n",
        "# porter = PorterStemmer() # untuk stemming kata tertentu dalam bahasa lain\n",
        "# stemmer = factory.create_stemmer()\n",
        "\n",
        "# kata_khusus = ['processing']\n",
        "\n",
        "# kalimat1_stem = []\n",
        "# for word in kalimat1:\n",
        "#     if word in kata_khusus:\n",
        "#         stemmed = porter.stem(word)\n",
        "#     else:\n",
        "#         stemmed = stemmer.stem(word)\n",
        "#     kalimat1_stem.append(stemmed)\n",
        "\n",
        "# print(kalimat1_stem)\n",
        "\n",
        "# df_sample['stemming'] = df_sample['stopword'].apply(lambda x: [stemmer.stem(word) for word in x])"
      ],
      "metadata": {
        "id": "-FmtEZhoCDW1"
      },
      "execution_count": 32,
      "outputs": []
    },
    {
      "cell_type": "code",
      "source": [
        "from nltk.stem import WordNetLemmatizer\n",
        "from nltk.corpus import wordnet\n",
        "\n",
        "nltk.download('wordnet')\n",
        "nltk.download('omw-1.4')"
      ],
      "metadata": {
        "id": "vWZLNOa3f8gK",
        "outputId": "90d0ba61-6ffa-48e4-efd7-8525c6b6dff5",
        "colab": {
          "base_uri": "https://localhost:8080/"
        }
      },
      "execution_count": 33,
      "outputs": [
        {
          "output_type": "stream",
          "name": "stderr",
          "text": [
            "[nltk_data] Downloading package wordnet to /root/nltk_data...\n",
            "[nltk_data]   Package wordnet is already up-to-date!\n",
            "[nltk_data] Downloading package omw-1.4 to /root/nltk_data...\n",
            "[nltk_data]   Package omw-1.4 is already up-to-date!\n"
          ]
        },
        {
          "output_type": "execute_result",
          "data": {
            "text/plain": [
              "True"
            ]
          },
          "metadata": {},
          "execution_count": 33
        }
      ]
    },
    {
      "cell_type": "code",
      "source": [
        "type(df_sample['stopword'].iloc[0])"
      ],
      "metadata": {
        "id": "MXsOWiF2jGt6",
        "outputId": "ea3d69ef-25ee-4ab6-f222-acbf8f31d6a8",
        "colab": {
          "base_uri": "https://localhost:8080/"
        }
      },
      "execution_count": 41,
      "outputs": [
        {
          "output_type": "execute_result",
          "data": {
            "text/plain": [
              "list"
            ]
          },
          "metadata": {},
          "execution_count": 41
        }
      ]
    },
    {
      "cell_type": "code",
      "source": [
        "lematizer = WordNetLemmatizer()\n",
        "df_sample['lematized'] = df_sample['stopword'].apply(lambda x: [lematizer.lemmatize(word) for word in x]).apply(lambda x: \" \".join(x))"
      ],
      "metadata": {
        "id": "sA4Ripg7gM5U",
        "outputId": "342e20f0-0303-413c-8e10-ea6fe32ad717",
        "colab": {
          "base_uri": "https://localhost:8080/"
        }
      },
      "execution_count": 42,
      "outputs": [
        {
          "output_type": "stream",
          "name": "stderr",
          "text": [
            "<ipython-input-42-1c37c3590f1c>:2: SettingWithCopyWarning: \n",
            "A value is trying to be set on a copy of a slice from a DataFrame.\n",
            "Try using .loc[row_indexer,col_indexer] = value instead\n",
            "\n",
            "See the caveats in the documentation: https://pandas.pydata.org/pandas-docs/stable/user_guide/indexing.html#returning-a-view-versus-a-copy\n",
            "  df_sample['lematized'] = df_sample['stopword'].apply(lambda x: [lematizer.lemmatize(word) for word in x]).apply(lambda x: \" \".join(x))\n"
          ]
        }
      ]
    },
    {
      "cell_type": "markdown",
      "source": [
        "# **TF-IDF**"
      ],
      "metadata": {
        "id": "YHhkrF4Klfc7"
      }
    },
    {
      "cell_type": "code",
      "source": [
        "from sklearn.feature_extraction.text import TfidfVectorizer\n",
        "from sklearn.metrics.pairwise import cosine_similarity"
      ],
      "metadata": {
        "id": "-qJJjj6KhHWw"
      },
      "execution_count": 43,
      "outputs": []
    },
    {
      "cell_type": "code",
      "source": [
        "tfidf_vectorizer = TfidfVectorizer()\n",
        "tfidf_matrix = tfidf_vectorizer.fit_transform(df_sample['lematized'])\n",
        "tfidf_similarity = cosine_similarity(tfidf_matrix, tfidf_matrix)"
      ],
      "metadata": {
        "id": "Hne8ge-Fly9W"
      },
      "execution_count": 45,
      "outputs": []
    },
    {
      "cell_type": "code",
      "source": [
        "print(f\"TF-IDF Matrix Shape: {tfidf_matrix.shape}\")"
      ],
      "metadata": {
        "id": "zgd6HxqSmBY1",
        "outputId": "c2fab769-7ee8-40f5-f710-004f9fc870dd",
        "colab": {
          "base_uri": "https://localhost:8080/"
        }
      },
      "execution_count": 46,
      "outputs": [
        {
          "output_type": "stream",
          "name": "stdout",
          "text": [
            "TF-IDF Matrix Shape: (981, 13983)\n"
          ]
        }
      ]
    },
    {
      "cell_type": "code",
      "source": [
        "tfidf_similarity"
      ],
      "metadata": {
        "id": "aABmIupJmgHi",
        "outputId": "47eb5b19-0bdd-4b24-c85f-85ce97051d75",
        "colab": {
          "base_uri": "https://localhost:8080/"
        }
      },
      "execution_count": 47,
      "outputs": [
        {
          "output_type": "execute_result",
          "data": {
            "text/plain": [
              "array([[1.        , 0.01704977, 0.01880471, ..., 0.03692024, 0.02030791,\n",
              "        0.05109753],\n",
              "       [0.01704977, 1.        , 0.00808075, ..., 0.00488752, 0.01611583,\n",
              "        0.00970163],\n",
              "       [0.01880471, 0.00808075, 1.        , ..., 0.01173634, 0.03630862,\n",
              "        0.03275199],\n",
              "       ...,\n",
              "       [0.03692024, 0.00488752, 0.01173634, ..., 1.        , 0.03138387,\n",
              "        0.03098982],\n",
              "       [0.02030791, 0.01611583, 0.03630862, ..., 0.03138387, 1.        ,\n",
              "        0.03645556],\n",
              "       [0.05109753, 0.00970163, 0.03275199, ..., 0.03098982, 0.03645556,\n",
              "        1.        ]])"
            ]
          },
          "metadata": {},
          "execution_count": 47
        }
      ]
    },
    {
      "cell_type": "markdown",
      "source": [
        "# **Word2Vec**"
      ],
      "metadata": {
        "id": "1tMvQLvClkTJ"
      }
    },
    {
      "cell_type": "code",
      "source": [],
      "metadata": {
        "id": "Y1tsXBkNlm1L"
      },
      "execution_count": null,
      "outputs": []
    }
  ]
}