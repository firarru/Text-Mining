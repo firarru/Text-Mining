{
  "nbformat": 4,
  "nbformat_minor": 0,
  "metadata": {
    "colab": {
      "provenance": [],
      "authorship_tag": "ABX9TyOq3NOmi+EeLU8GdU/p8dCN",
      "include_colab_link": true
    },
    "kernelspec": {
      "name": "python3",
      "display_name": "Python 3"
    },
    "language_info": {
      "name": "python"
    }
  },
  "cells": [
    {
      "cell_type": "markdown",
      "metadata": {
        "id": "view-in-github",
        "colab_type": "text"
      },
      "source": [
        "<a href=\"https://colab.research.google.com/github/firarru/Text-Mining/blob/main/Assesmen_1_Nabila_Zalfa_Shafira_TM.ipynb\" target=\"_parent\"><img src=\"https://colab.research.google.com/assets/colab-badge.svg\" alt=\"Open In Colab\"/></a>"
      ]
    },
    {
      "cell_type": "markdown",
      "source": [
        "# Nabila Zalfa Shafira\n",
        "\n",
        "# 1206220006\n",
        "\n",
        "# DS 02-01"
      ],
      "metadata": {
        "id": "xfbQ0eYtAwul"
      }
    },
    {
      "cell_type": "code",
      "execution_count": 1,
      "metadata": {
        "id": "mDyClHrdArn6"
      },
      "outputs": [],
      "source": [
        "import re"
      ]
    },
    {
      "cell_type": "markdown",
      "source": [
        "# **SOAL 1**"
      ],
      "metadata": {
        "id": "5siEyXyyDWSU"
      }
    },
    {
      "cell_type": "code",
      "source": [
        "text1 = \"Please contact us at support@example.com or sales@example.co.id for more info.\"\n",
        "\n",
        "# Soal\n",
        "# Berikan panduan coding regex sehingga output yang dihasilkan adalah ['support@example.com', 'sales@example.co.id']\n",
        "\n",
        "#Jawaban\n",
        "re.findall(r\"\\w+@\\S+\", text1)"
      ],
      "metadata": {
        "colab": {
          "base_uri": "https://localhost:8080/"
        },
        "id": "ezDKxz-LBU0i",
        "outputId": "aa9c4d42-eff4-4c1a-e1da-7a20c164b1ca"
      },
      "execution_count": 2,
      "outputs": [
        {
          "output_type": "execute_result",
          "data": {
            "text/plain": [
              "['support@example.com', 'sales@example.co.id']"
            ]
          },
          "metadata": {},
          "execution_count": 2
        }
      ]
    },
    {
      "cell_type": "code",
      "source": [
        "text2 = \"The events are scheduled on 12-04-2022, 15/05/2023, and 10-10-2021.\"\n",
        "\n",
        "# Soal\n",
        "# Lakukan ekstraksi tanggal dengan regex dalam format dd-mm-yyyy atau dd/mm/yyyy dari sebuah teks sehingga didapatkan output: ['12-04-2022', '15/05/2023', '10-10-2021']\n",
        "\n",
        "#Jawaban\n",
        "re.findall(r\"\\d{2}\\W+\\d{2}\\W+\\d{4}\", text2)"
      ],
      "metadata": {
        "colab": {
          "base_uri": "https://localhost:8080/"
        },
        "id": "nw126Q1JBr1N",
        "outputId": "33b11c29-fd35-476c-bf01-ea8ef3f8b92c"
      },
      "execution_count": 3,
      "outputs": [
        {
          "output_type": "execute_result",
          "data": {
            "text/plain": [
              "['12-04-2022', '15/05/2023', '10-10-2021']"
            ]
          },
          "metadata": {},
          "execution_count": 3
        }
      ]
    },
    {
      "cell_type": "code",
      "source": [
        "text3 = \"You can reach me at (123) 456-7890 or (987) 654-3210.\"\n",
        "\n",
        "# Soal\n",
        "# Lakukan proses regex untuk mendapatkan nomor telepon dengan output: ['(123) 456-7890', '(987) 654-3210']\n",
        "re.findall(r\"\\(\\d{3}\\)\\s\\d{3}-\\d{4}\", text3)"
      ],
      "metadata": {
        "colab": {
          "base_uri": "https://localhost:8080/"
        },
        "id": "Aa1i_ey2BqcV",
        "outputId": "e88610c8-fad1-4426-9258-4daaeb63c06d"
      },
      "execution_count": 4,
      "outputs": [
        {
          "output_type": "execute_result",
          "data": {
            "text/plain": [
              "['(123) 456-7890', '(987) 654-3210']"
            ]
          },
          "metadata": {},
          "execution_count": 4
        }
      ]
    },
    {
      "cell_type": "code",
      "source": [
        "text4 = \"Nomor KTP saya adalah 1234567890123456 dan KTP saudara saya 9876543210987654.\"\n",
        "\n",
        "# Soal\n",
        "# Lakukan ekstraksi nomor KTP dengan regex. Output: “['1234567890123456', '9876543210987654']”\n",
        "\n",
        "# Jawaban\n",
        "re.findall(r\"\\d+\", text4)"
      ],
      "metadata": {
        "colab": {
          "base_uri": "https://localhost:8080/"
        },
        "id": "w5JbREnYCW_G",
        "outputId": "87a0873a-4b60-4520-ef1b-9fa0b7dd1e24"
      },
      "execution_count": 5,
      "outputs": [
        {
          "output_type": "execute_result",
          "data": {
            "text/plain": [
              "['1234567890123456', '9876543210987654']"
            ]
          },
          "metadata": {},
          "execution_count": 5
        }
      ]
    },
    {
      "cell_type": "code",
      "source": [
        "text5 = \"Harga barang ini Rp 1.500.000 dan harga lainnya Rp 750.000.\"\n",
        "\n",
        "# Soal\n",
        "# Jika diketahui output: ['Rp 1.500.000', 'Rp 750.000']\n",
        "\n",
        "# Jawaban\n",
        "re.findall(r'Rp\\s[\\d.]+', text5)"
      ],
      "metadata": {
        "colab": {
          "base_uri": "https://localhost:8080/"
        },
        "id": "Wlp2hxm4CYEJ",
        "outputId": "db3c14ff-e964-4ceb-fdcd-e4c4e14728b5"
      },
      "execution_count": 6,
      "outputs": [
        {
          "output_type": "execute_result",
          "data": {
            "text/plain": [
              "['Rp 1.500.000', 'Rp 750.000.']"
            ]
          },
          "metadata": {},
          "execution_count": 6
        }
      ]
    },
    {
      "cell_type": "markdown",
      "source": [
        "# **SOAL 2**"
      ],
      "metadata": {
        "id": "NVjU5ys1DZLk"
      }
    },
    {
      "cell_type": "code",
      "source": [
        "pip install sastrawi"
      ],
      "metadata": {
        "colab": {
          "base_uri": "https://localhost:8080/"
        },
        "id": "RKe5ip2mER0S",
        "outputId": "0657f39a-fa47-4c83-f377-496fefcbaa8f"
      },
      "execution_count": 7,
      "outputs": [
        {
          "output_type": "stream",
          "name": "stdout",
          "text": [
            "Requirement already satisfied: sastrawi in /usr/local/lib/python3.11/dist-packages (1.0.1)\n"
          ]
        }
      ]
    },
    {
      "cell_type": "code",
      "source": [
        "from Sastrawi.Stemmer.StemmerFactory import StemmerFactory\n",
        "from nltk.tokenize import word_tokenize\n",
        "from nltk.corpus import stopwords\n",
        "from nltk.stem import PorterStemmer\n",
        "import nltk\n",
        "import string"
      ],
      "metadata": {
        "id": "8Tw_iVyXEK-D"
      },
      "execution_count": 8,
      "outputs": []
    },
    {
      "cell_type": "code",
      "source": [
        "nltk.download('punkt_tab')\n",
        "nltk.download('stopwords')"
      ],
      "metadata": {
        "colab": {
          "base_uri": "https://localhost:8080/"
        },
        "id": "GoPnCzT4ERQh",
        "outputId": "3014748a-5c03-43b9-ed07-af597660ce7d"
      },
      "execution_count": 9,
      "outputs": [
        {
          "output_type": "stream",
          "name": "stderr",
          "text": [
            "[nltk_data] Downloading package punkt_tab to /root/nltk_data...\n",
            "[nltk_data]   Package punkt_tab is already up-to-date!\n",
            "[nltk_data] Downloading package stopwords to /root/nltk_data...\n",
            "[nltk_data]   Package stopwords is already up-to-date!\n"
          ]
        },
        {
          "output_type": "execute_result",
          "data": {
            "text/plain": [
              "True"
            ]
          },
          "metadata": {},
          "execution_count": 9
        }
      ]
    },
    {
      "cell_type": "code",
      "source": [
        "kalimat1 = \"Natural Language Processing adalah bidang ilmu komputer yang berkaitan dengan pemrosesan bahasa manusia, seperti teks atau suara.\"\n",
        "\n",
        "# Soal\n",
        "# Hasil Token setelah Preprocessing:  ['natural', 'language', 'process', 'bidang', 'ilmu', 'komputer', 'berkait', 'pemroses', 'bahasa', 'manusia', 'teks', 'suara']"
      ],
      "metadata": {
        "id": "c0bQK1xXC0oz"
      },
      "execution_count": 10,
      "outputs": []
    },
    {
      "cell_type": "code",
      "source": [
        "# Case Folding\n",
        "kalimat1 = kalimat1.lower()\n",
        "print(kalimat1)"
      ],
      "metadata": {
        "colab": {
          "base_uri": "https://localhost:8080/"
        },
        "id": "mYRPPS4rEBA-",
        "outputId": "17bee2cd-2ca4-40d3-bdfc-1dde7d9cc450"
      },
      "execution_count": 11,
      "outputs": [
        {
          "output_type": "stream",
          "name": "stdout",
          "text": [
            "natural language processing adalah bidang ilmu komputer yang berkaitan dengan pemrosesan bahasa manusia, seperti teks atau suara.\n"
          ]
        }
      ]
    },
    {
      "cell_type": "code",
      "source": [
        "# Cleaning\n",
        "kalimat1 = re.sub(r'[^\\w\\s]', '', kalimat1)\n",
        "print(kalimat1)"
      ],
      "metadata": {
        "colab": {
          "base_uri": "https://localhost:8080/"
        },
        "id": "Un4bzkNIEp0a",
        "outputId": "0c28ac91-4595-4d9f-87c5-4329d844fb41"
      },
      "execution_count": 12,
      "outputs": [
        {
          "output_type": "stream",
          "name": "stdout",
          "text": [
            "natural language processing adalah bidang ilmu komputer yang berkaitan dengan pemrosesan bahasa manusia seperti teks atau suara\n"
          ]
        }
      ]
    },
    {
      "cell_type": "code",
      "source": [
        "# Tokenizing\n",
        "kalimat1 = word_tokenize(kalimat1)\n",
        "print(kalimat1)"
      ],
      "metadata": {
        "colab": {
          "base_uri": "https://localhost:8080/"
        },
        "id": "v8nYI-tkFBlj",
        "outputId": "98993a9b-0d20-40e6-c312-c7713a5fb97c"
      },
      "execution_count": 13,
      "outputs": [
        {
          "output_type": "stream",
          "name": "stdout",
          "text": [
            "['natural', 'language', 'processing', 'adalah', 'bidang', 'ilmu', 'komputer', 'yang', 'berkaitan', 'dengan', 'pemrosesan', 'bahasa', 'manusia', 'seperti', 'teks', 'atau', 'suara']\n"
          ]
        }
      ]
    },
    {
      "cell_type": "code",
      "source": [
        "# Stopword\n",
        "stop_words = set(stopwords.words('indonesian'))\n",
        "kalimat1 = [word for word in kalimat1 if word not in stop_words]\n",
        "print(kalimat1)"
      ],
      "metadata": {
        "colab": {
          "base_uri": "https://localhost:8080/"
        },
        "id": "ySTULIEaFCih",
        "outputId": "a41df1a9-14d4-4c31-f195-6987e391086d"
      },
      "execution_count": 14,
      "outputs": [
        {
          "output_type": "stream",
          "name": "stdout",
          "text": [
            "['natural', 'language', 'processing', 'bidang', 'ilmu', 'komputer', 'berkaitan', 'pemrosesan', 'bahasa', 'manusia', 'teks', 'suara']\n"
          ]
        }
      ]
    },
    {
      "cell_type": "code",
      "source": [
        "# Stemming\n",
        "factory = StemmerFactory()\n",
        "porter = PorterStemmer() # untuk stemming kata tertentu dalam bahasa lain\n",
        "stemmer = factory.create_stemmer()\n",
        "\n",
        "kata_khusus = ['processing']\n",
        "\n",
        "kalimat1_stem = []\n",
        "for word in kalimat1:\n",
        "    if word in kata_khusus:\n",
        "        stemmed = porter.stem(word)\n",
        "    else:\n",
        "        stemmed = stemmer.stem(word)\n",
        "    kalimat1_stem.append(stemmed)\n",
        "\n",
        "print(kalimat1_stem)"
      ],
      "metadata": {
        "colab": {
          "base_uri": "https://localhost:8080/"
        },
        "id": "nQpCcUgpFn8e",
        "outputId": "c8c49b59-adf0-44a2-f316-f050f2f24939"
      },
      "execution_count": 15,
      "outputs": [
        {
          "output_type": "stream",
          "name": "stdout",
          "text": [
            "['natural', 'language', 'process', 'bidang', 'ilmu', 'komputer', 'kait', 'pemrosesan', 'bahasa', 'manusia', 'teks', 'suara']\n"
          ]
        }
      ]
    }
  ]
}